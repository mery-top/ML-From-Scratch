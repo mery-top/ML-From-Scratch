{
 "cells": [
  {
   "cell_type": "code",
   "execution_count": 4,
   "metadata": {},
   "outputs": [],
   "source": [
    "import numpy as np"
   ]
  },
  {
   "cell_type": "code",
   "execution_count": 12,
   "metadata": {},
   "outputs": [
    {
     "name": "stdout",
     "output_type": "stream",
     "text": [
      "[0, 1, 1]\n"
     ]
    }
   ],
   "source": [
    "class LogisticRegression:\n",
    "    def __init__( self, learning_rate, epochs):\n",
    "        self.lr = learning_rate\n",
    "        self.epochs = epochs\n",
    "        self.w = None\n",
    "        self.b = None\n",
    "    \n",
    "    def fit(self, X, y):\n",
    "        n_samples, n_features = X.shape\n",
    "        self.w = np.zeros(n_features)\n",
    "        self.b = 0\n",
    "        \n",
    "        for _ in range(self.epochs):\n",
    "            linearmodel = np.dot(X, self.w)+ self.b\n",
    "            y_pred =self.sigmoid(linearmodel)\n",
    "            \n",
    "            dw = (1/n_samples) * np.dot(X.T, (y_pred - y))\n",
    "            db = (1/n_samples) * np.sum((y_pred - y))\n",
    "            \n",
    "            self.w-=self.lr*dw\n",
    "            self.b-=self.lr*db\n",
    "            \n",
    "    def sigmoid(self, z):\n",
    "        return (1/(1+ np.exp(-z)))\n",
    "    \n",
    "    def predict(self, X):\n",
    "        linearmodel = np.dot(X, self.w)+ self.b\n",
    "        y_pred = self.sigmoid(linearmodel)\n",
    "        # print(y_pred)\n",
    "        return [1 if i>0.5 else 0 for i in y_pred]\n",
    "        \n",
    "\n",
    "model = LogisticRegression(learning_rate = 0.01, epochs=1000)\n",
    "X = np.array([[1], [2],[3], [4], [5]])\n",
    "y = np.array([0,0,1,1,1])\n",
    "model.fit(X, y)\n",
    "predictions= model.predict(np.array([[1.5], [3.5], [6.6]]))\n",
    "print(predictions)"
   ]
  }
 ],
 "metadata": {
  "kernelspec": {
   "display_name": ".venv",
   "language": "python",
   "name": "python3"
  },
  "language_info": {
   "codemirror_mode": {
    "name": "ipython",
    "version": 3
   },
   "file_extension": ".py",
   "mimetype": "text/x-python",
   "name": "python",
   "nbconvert_exporter": "python",
   "pygments_lexer": "ipython3",
   "version": "3.11.11"
  }
 },
 "nbformat": 4,
 "nbformat_minor": 2
}
