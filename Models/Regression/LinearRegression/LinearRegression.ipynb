{
 "cells": [
  {
   "cell_type": "code",
   "execution_count": 2,
   "metadata": {},
   "outputs": [],
   "source": [
    "import numpy as np"
   ]
  },
  {
   "cell_type": "code",
   "execution_count": 7,
   "metadata": {},
   "outputs": [
    {
     "name": "stdout",
     "output_type": "stream",
     "text": [
      "[11.93728249 13.91103737]\n"
     ]
    }
   ],
   "source": [
    "class LinearRegression:\n",
    "    def __init__(self, learning_rate = 0.01, epochs=1000):\n",
    "        self.lr = learning_rate\n",
    "        self.epochs = epochs\n",
    "        self.w = None\n",
    "        self.b = None\n",
    "        \n",
    "    def fit(self, X, y):\n",
    "        n_samples, n_features = X.shape\n",
    "        self.w = np.zeros(n_features)\n",
    "        self.b = 0\n",
    "        \n",
    "        for _ in range(self.epochs):\n",
    "            y_pred = np.dot(X, self.w)+ self.b\n",
    "            \n",
    "            # Compute Gradients\n",
    "            dw = 1/n_samples * np.dot(X.T, (y_pred - y))\n",
    "            db = 1/n_samples * np.sum((y_pred - y))\n",
    "            \n",
    "            self.w-= self.lr*dw\n",
    "            self.b-=self.lr* db\n",
    "            \n",
    "    def predict(self, X):\n",
    "        return (np.dot(X, self.w)+ self.b)\n",
    "    \n",
    "    \n",
    "X = np.array([[1], [2], [3], [4], [5]])\n",
    "y = np.array([2,4,6,8,10])\n",
    "model = LinearRegression(learning_rate = 0.01, epochs=1000)\n",
    "model.fit(X,y)\n",
    "predictions = model.predict(np.array([[6], [7]]))\n",
    "print(predictions)\n"
   ]
  }
 ],
 "metadata": {
  "kernelspec": {
   "display_name": "Python 3",
   "language": "python",
   "name": "python3"
  },
  "language_info": {
   "codemirror_mode": {
    "name": "ipython",
    "version": 3
   },
   "file_extension": ".py",
   "mimetype": "text/x-python",
   "name": "python",
   "nbconvert_exporter": "python",
   "pygments_lexer": "ipython3",
   "version": "3.11.11"
  }
 },
 "nbformat": 4,
 "nbformat_minor": 2
}
